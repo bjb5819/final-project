{
  "nbformat": 4,
  "nbformat_minor": 0,
  "metadata": {
    "colab": {
      "name": "Final Project.ipynb",
      "provenance": [],
      "collapsed_sections": [],
      "include_colab_link": true
    },
    "kernelspec": {
      "name": "python3",
      "display_name": "Python 3"
    }
  },
  "cells": [
    {
      "cell_type": "markdown",
      "metadata": {
        "id": "view-in-github",
        "colab_type": "text"
      },
      "source": [
        "<a href=\"https://colab.research.google.com/github/bjb5819/final-project/blob/master/Final_Project.ipynb\" target=\"_parent\"><img src=\"https://colab.research.google.com/assets/colab-badge.svg\" alt=\"Open In Colab\"/></a>"
      ]
    },
    {
      "cell_type": "markdown",
      "metadata": {
        "id": "Kw5PZBtl0Ob6",
        "colab_type": "text"
      },
      "source": [
        "# Pokemon Final Project"
      ]
    },
    {
      "cell_type": "markdown",
      "metadata": {
        "id": "iXWAmSVB0Rno",
        "colab_type": "text"
      },
      "source": [
        "Contributors:\n",
        "\n",
        "\n",
        "*   Brandyn Bard\n",
        "*   David Madril\n",
        "*   Sal Morreale\n",
        "\n",
        "\n",
        "\n",
        "\n"
      ]
    },
    {
      "cell_type": "markdown",
      "metadata": {
        "id": "WpaW-i5l0ZHn",
        "colab_type": "text"
      },
      "source": [
        "## Background"
      ]
    },
    {
      "cell_type": "markdown",
      "metadata": {
        "id": "E4VKsOvP0eev",
        "colab_type": "text"
      },
      "source": [
        "In this project we wanted to find out interesting data surrounding the worlds most popular game, Pokemon. Each new grouping of pokemon is called a \"Generation\", and we wanted to take an indepth look at how each generation of pokemon differed from the next. Each pokemon has a specific set of stats (attack, defense, special defense, special attack, speed, and health) so we wanted to use tablue to compare them all and see which generation had the overall strongest Pokémon. Each Pokémon will also have specific “typing’s” which indicate what powers they have. These typing’s can range from (fire, water, grass, rock) to more complex ones like (psychic, fighting, flying, earth, poison, bug, etc.). Some Pokémon can even have multiple typing’s. By strongest Pokémon we are just looking at the averages in each generation and not the strongest individual Pokémon. Although we will be looking out for the “strongest individual Pokémon”, that isn’t the main focus of our experiment.  We will be using a stat called “total base stats” from each Pokémon to test how they compare to other Pokémon from different generations, but also the same generation. “Total base stats” is just the combination of all the Pokémon’s stats such as attack, defense, speed, etc. There are around 7 generation of Pokémon, each with around 150 Pokémon in each. That comes out to 807 total Pokémon all together! Because that number is so large and would make the data more confusing to look at, we decided to only use the first 3 generations to compare and contrast. Even though we cut down on the amount of Pokémon, there are still 386 different and unique Pokémon in our experiment. We don’t think this question has ever really been asked and are pretty curious to find out. \n",
        "\n"
      ]
    },
    {
      "cell_type": "markdown",
      "metadata": {
        "id": "7d8vfcGufV0_",
        "colab_type": "text"
      },
      "source": [
        "### Goal"
      ]
    },
    {
      "cell_type": "markdown",
      "metadata": {
        "id": "e1jKSGTjfY2H",
        "colab_type": "text"
      },
      "source": [
        "The goal of this project is to find out which generation has the strongest Pokémon in it. We will be using the first 3 generations in this experiment.  "
      ]
    },
    {
      "cell_type": "markdown",
      "metadata": {
        "id": "GOxy_TvCfi54",
        "colab_type": "text"
      },
      "source": [
        "### Assumptions"
      ]
    },
    {
      "cell_type": "markdown",
      "metadata": {
        "id": "cw1v_1MMfnAR",
        "colab_type": "text"
      },
      "source": [
        "Insert 10 assumptions for your data model:\n",
        "*   Generation 3 will have the highest average stats across the board\n",
        "*   Generation 2 will have the lowest average stats across the board\n",
        "*   Legendary Pokemon will have higher stats than none legendary Pokemon\n",
        "*   A Legendary pokemon will be the strongest individual pokemon\n",
        "*   A \"bug\" type pokemon will be the weakest individual pokemon\n",
        "*   Pokemon with 2 typings will be stronger than pokemon with only 1\n",
        "*   Pokemon with \"Mega Evolutions\" will be stronger than those without\n",
        "*   Generation 1 will have the strongest individual Pokemon\n",
        "*   Generation 1 will also have the weakest individual Pokemon\n",
        "*   No pokemon will have a higher \"total\" than 700\n",
        "\n"
      ]
    },
    {
      "cell_type": "markdown",
      "metadata": {
        "id": "jKGILpu7gWr6",
        "colab_type": "text"
      },
      "source": [
        "### Data Sources"
      ]
    },
    {
      "cell_type": "markdown",
      "metadata": {
        "id": "uwCao7AtgbNn",
        "colab_type": "text"
      },
      "source": [
        "Our group decided to use a data set called “Pokémon with stats” and “the complete Pokémon dataset” as a basis for our project. The reason we decided to use these two datasets is because of how much information comes inside of each. The first data set was very simple with the data it provided, it gave us everything from to do with the specific stats of each Pokémon. This was extremely helpful because that was the main focus of our project. We wanted to find out all of their stats and calculate the their total strength in relation to the other generation of Pokémon. The Second data set was much more in depth with what it provided. It gave us things we didn’t even ask for, like what percentage of each Pokémon is girl or boy. The most important statistic it gave us was the generation of each Pokémon. It separated all 807 Pokémon into their specific generation.  We used a outer join to combine both dataset. This is because when we first tried to do a “inner join”, the generations wouldn’t have been included into the dataset, and that was arguably the most important statistic. In retrospect we could have done a “right join” because that would have given us everything in the “complete Pokémon dataset”, and we could have just taken what we wanted from the “Pokémon with stats” data instead. Ultimately we choose to do an “outer join” because we wanted free range over what we could and couldn’t use as a filter on our data. This allowed us to get more creative with how we could separate the data and present it in a more aesthetically pleasing manner."
      ]
    },
    {
      "cell_type": "markdown",
      "metadata": {
        "id": "kDgSdoQUgg2Z",
        "colab_type": "text"
      },
      "source": [
        "#### Sources"
      ]
    },
    {
      "cell_type": "markdown",
      "metadata": {
        "id": "dFzYIi0Agi2_",
        "colab_type": "text"
      },
      "source": [
        "https://www.kaggle.com/abcsds/pokemon this is the \"pokemon with stats\"\n",
        "\n",
        "\n",
        "https://www.kaggle.com/rounakbanik/pokemon this is the \"the complete pokemon dataset\""
      ]
    },
    {
      "cell_type": "markdown",
      "metadata": {
        "id": "qcFak2v7g3jt",
        "colab_type": "text"
      },
      "source": [
        "## Dashboard (5)"
      ]
    },
    {
      "cell_type": "code",
      "metadata": {
        "id": "knG79vNP0Q0u",
        "colab_type": "code",
        "outputId": "9906711a-1121-439c-f194-4cbaf8a3c799",
        "colab": {
          "base_uri": "https://localhost:8080/",
          "height": 864
        }
      },
      "source": [
        "import IPython\n",
        "IPython.display.HTML(\"<div class='tableauPlaceholder' id='viz1587962537318' style='position: relative'><noscript><a href='#'><img alt=' ' src='https:&#47;&#47;public.tableau.com&#47;static&#47;images&#47;Fi&#47;Finalprojectlastversion&#47;Dashboard2&#47;1_rss.png' style='border: none' /></a></noscript><object class='tableauViz'  style='display:none;'><param name='host_url' value='https%3A%2F%2Fpublic.tableau.com%2F' /> <param name='embed_code_version' value='3' /> <param name='site_root' value='' /><param name='name' value='Finalprojectlastversion&#47;Dashboard2' /><param name='tabs' value='no' /><param name='toolbar' value='yes' /><param name='static_image' value='https:&#47;&#47;public.tableau.com&#47;static&#47;images&#47;Fi&#47;Finalprojectlastversion&#47;Dashboard2&#47;1.png' /> <param name='animate_transition' value='yes' /><param name='display_static_image' value='yes' /><param name='display_spinner' value='yes' /><param name='display_overlay' value='yes' /><param name='display_count' value='yes' /><param name='filter' value='publish=yes' /></object></div>                <script type='text/javascript'>                    var divElement = document.getElementById('viz1587962537318');                    var vizElement = divElement.getElementsByTagName('object')[0];                    if ( divElement.offsetWidth > 800 ) { vizElement.style.width='1500px';vizElement.style.height='827px';} else if ( divElement.offsetWidth > 500 ) { vizElement.style.width='1500px';vizElement.style.height='827px';} else { vizElement.style.width='100%';vizElement.style.height='877px';}                     var scriptElement = document.createElement('script');                    scriptElement.src = 'https://public.tableau.com/javascripts/api/viz_v1.js';                    vizElement.parentNode.insertBefore(scriptElement, vizElement);                </script>\")"
      ],
      "execution_count": 4,
      "outputs": [
        {
          "output_type": "execute_result",
          "data": {
            "text/html": [
              "<div class='tableauPlaceholder' id='viz1587962537318' style='position: relative'><noscript><a href='#'><img alt=' ' src='https:&#47;&#47;public.tableau.com&#47;static&#47;images&#47;Fi&#47;Finalprojectlastversion&#47;Dashboard2&#47;1_rss.png' style='border: none' /></a></noscript><object class='tableauViz'  style='display:none;'><param name='host_url' value='https%3A%2F%2Fpublic.tableau.com%2F' /> <param name='embed_code_version' value='3' /> <param name='site_root' value='' /><param name='name' value='Finalprojectlastversion&#47;Dashboard2' /><param name='tabs' value='no' /><param name='toolbar' value='yes' /><param name='static_image' value='https:&#47;&#47;public.tableau.com&#47;static&#47;images&#47;Fi&#47;Finalprojectlastversion&#47;Dashboard2&#47;1.png' /> <param name='animate_transition' value='yes' /><param name='display_static_image' value='yes' /><param name='display_spinner' value='yes' /><param name='display_overlay' value='yes' /><param name='display_count' value='yes' /><param name='filter' value='publish=yes' /></object></div>                <script type='text/javascript'>                    var divElement = document.getElementById('viz1587962537318');                    var vizElement = divElement.getElementsByTagName('object')[0];                    if ( divElement.offsetWidth > 800 ) { vizElement.style.width='1500px';vizElement.style.height='827px';} else if ( divElement.offsetWidth > 500 ) { vizElement.style.width='1500px';vizElement.style.height='827px';} else { vizElement.style.width='100%';vizElement.style.height='877px';}                     var scriptElement = document.createElement('script');                    scriptElement.src = 'https://public.tableau.com/javascripts/api/viz_v1.js';                    vizElement.parentNode.insertBefore(scriptElement, vizElement);                </script>"
            ],
            "text/plain": [
              "<IPython.core.display.HTML object>"
            ]
          },
          "metadata": {
            "tags": []
          },
          "execution_count": 4
        }
      ]
    },
    {
      "cell_type": "markdown",
      "metadata": {
        "id": "SvWfnlDjnos1",
        "colab_type": "text"
      },
      "source": [
        "## Conclusion"
      ]
    },
    {
      "cell_type": "markdown",
      "metadata": {
        "id": "rfWefr2gnxOG",
        "colab_type": "text"
      },
      "source": [
        "First we would like to describe how we made our graphs. Our first page we wanted the names of each Pokémon to be the column, and for the rows we used both “total base stats” and “Generation”. At first we just were using “total base stats” to be our rows, but we thought that made the data to complicated to look at. Also if it is still hard to tell which Pokémon is which, we added the feature that allows you to hover over the data and it will give a detailed breakdown of what is in each point. Now with this design, we believe it is easy to tell which Pokémon belongs in each different generation. You can also filter out as much content as you like. So if you just want to look at data from generation 2, we allow you to do that by either sliding the bar located at the top right or checking and unchecking the boxes located on the side. We also included an animation that will show the lines of each corresponding generation. It allows for the readers to look at our data from a different view point. Although it can get a little confusing if you have all three graphs highlighted at the exact same time, so we advise using the filters to look at 2 graphs at a time. \n",
        "\n",
        "\n",
        "After we finished making our graphs and filtered out the data, we found out some pretty interesting things based on the data. Firstly on average, the Pokémon from generation 1 were stronger than the other 2 generations! This surprised us all, our line of reasoning was that the developers of Pokémon would have to keep increasing the totals of the other generations to make them feel “newer”/”better” in a sense. But that wasn’t the case at all, what we found was Generation 1 was just generally stronger than Generation 2 or Generation 3. We calculated this by adding up all the “total base stats” of each Pokémon from each individual generation. When then compared these totals to see which would be higher.  Generation 3 was extremely close in terms of average “total” stats to that of Generation 1, coming in about 1000 “points” under the total of the first Generation. Generation 2 was by far the lowest total out of them all, coming in around 20,000 “points” below either of the other 2 generations. The strongest individual Pokémon was a tie between generation 1 (mew two) and generation 3 (Rayquaza). We found out the weakest Pokémon was actually a water type and not a bug type. Almost all of our assumptions were wrong except for the one where we guessed that Generation 2 would be the weakest out of the trio and that a legendary Pokémon (mew two and Rayquaza) would be the strongest. We also were correct in assuming that Pokémon with Mega Evolutions would be stronger than those without. Our goal from the start was to figure out which generation would be the strongest, and we found out that that was undoubtably Generation 1.\n"
      ]
    },
    {
      "cell_type": "code",
      "metadata": {
        "id": "GiYDwrUYn0k0",
        "colab_type": "code",
        "colab": {}
      },
      "source": [
        ""
      ],
      "execution_count": 0,
      "outputs": []
    }
  ]
}